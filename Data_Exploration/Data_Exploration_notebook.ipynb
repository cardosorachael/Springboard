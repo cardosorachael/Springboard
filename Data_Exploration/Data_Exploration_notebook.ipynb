{
 "cells": [
  {
   "cell_type": "markdown",
   "id": "59713e96",
   "metadata": {},
   "source": [
    "# Data Exploration"
   ]
  },
  {
   "cell_type": "markdown",
   "id": "3e4f4bc3",
   "metadata": {},
   "source": [
    "### 1. BUSINESS DATASET "
   ]
  },
  {
   "cell_type": "markdown",
   "id": "856dbda5",
   "metadata": {},
   "source": [
    "In order to get a high level understanding of the fields present in each table, the data was loaded into a df. The csv files selected here represent a 'chunk' that make up the entire table"
   ]
  },
  {
   "cell_type": "code",
   "execution_count": 168,
   "id": "8420448a",
   "metadata": {
    "scrolled": true
   },
   "outputs": [
    {
     "data": {
      "text/html": [
       "<div>\n",
       "<style scoped>\n",
       "    .dataframe tbody tr th:only-of-type {\n",
       "        vertical-align: middle;\n",
       "    }\n",
       "\n",
       "    .dataframe tbody tr th {\n",
       "        vertical-align: top;\n",
       "    }\n",
       "\n",
       "    .dataframe thead th {\n",
       "        text-align: right;\n",
       "    }\n",
       "</style>\n",
       "<table border=\"1\" class=\"dataframe\">\n",
       "  <thead>\n",
       "    <tr style=\"text-align: right;\">\n",
       "      <th></th>\n",
       "      <th>business_id</th>\n",
       "      <th>name</th>\n",
       "      <th>address</th>\n",
       "      <th>city</th>\n",
       "      <th>state</th>\n",
       "      <th>postal_code</th>\n",
       "      <th>latitude</th>\n",
       "      <th>longitude</th>\n",
       "      <th>stars</th>\n",
       "      <th>review_count</th>\n",
       "      <th>is_open</th>\n",
       "      <th>attributes</th>\n",
       "      <th>categories</th>\n",
       "      <th>hours</th>\n",
       "    </tr>\n",
       "  </thead>\n",
       "  <tbody>\n",
       "    <tr>\n",
       "      <th>0</th>\n",
       "      <td>6iYb2HFDywm3zjuRg0shjw</td>\n",
       "      <td>Oskar Blues Taproom</td>\n",
       "      <td>921 Pearl St</td>\n",
       "      <td>Boulder</td>\n",
       "      <td>CO</td>\n",
       "      <td>80302</td>\n",
       "      <td>40.017544</td>\n",
       "      <td>-105.283348</td>\n",
       "      <td>4.0</td>\n",
       "      <td>86</td>\n",
       "      <td>1</td>\n",
       "      <td>{'RestaurantsTableService': 'True', 'WiFi': \"u...</td>\n",
       "      <td>Gastropubs, Food, Beer Gardens, Restaurants, B...</td>\n",
       "      <td>{'Monday': '11:0-23:0', 'Tuesday': '11:0-23:0'...</td>\n",
       "    </tr>\n",
       "    <tr>\n",
       "      <th>1</th>\n",
       "      <td>tCbdrRPZA0oiIYSmHG3J0w</td>\n",
       "      <td>Flying Elephants at PDX</td>\n",
       "      <td>7000 NE Airport Way</td>\n",
       "      <td>Portland</td>\n",
       "      <td>OR</td>\n",
       "      <td>97218</td>\n",
       "      <td>45.588906</td>\n",
       "      <td>-122.593331</td>\n",
       "      <td>4.0</td>\n",
       "      <td>126</td>\n",
       "      <td>1</td>\n",
       "      <td>{'RestaurantsTakeOut': 'True', 'RestaurantsAtt...</td>\n",
       "      <td>Salad, Soup, Sandwiches, Delis, Restaurants, C...</td>\n",
       "      <td>{'Monday': '5:0-18:0', 'Tuesday': '5:0-17:0', ...</td>\n",
       "    </tr>\n",
       "    <tr>\n",
       "      <th>2</th>\n",
       "      <td>bvN78flM8NLprQ1a1y5dRg</td>\n",
       "      <td>The Reclaimory</td>\n",
       "      <td>4720 Hawthorne Ave</td>\n",
       "      <td>Portland</td>\n",
       "      <td>OR</td>\n",
       "      <td>97214</td>\n",
       "      <td>45.511907</td>\n",
       "      <td>-122.613693</td>\n",
       "      <td>4.5</td>\n",
       "      <td>13</td>\n",
       "      <td>1</td>\n",
       "      <td>{'BusinessAcceptsCreditCards': 'True', 'Restau...</td>\n",
       "      <td>Antiques, Fashion, Used, Vintage &amp; Consignment...</td>\n",
       "      <td>{'Thursday': '11:0-18:0', 'Friday': '11:0-18:0...</td>\n",
       "    </tr>\n",
       "    <tr>\n",
       "      <th>3</th>\n",
       "      <td>oaepsyvc0J17qwi8cfrOWg</td>\n",
       "      <td>Great Clips</td>\n",
       "      <td>2566 Enterprise Rd</td>\n",
       "      <td>Orange City</td>\n",
       "      <td>FL</td>\n",
       "      <td>32763</td>\n",
       "      <td>28.914482</td>\n",
       "      <td>-81.295979</td>\n",
       "      <td>3.0</td>\n",
       "      <td>8</td>\n",
       "      <td>1</td>\n",
       "      <td>{'RestaurantsPriceRange2': '1', 'BusinessAccep...</td>\n",
       "      <td>Beauty &amp; Spas, Hair Salons</td>\n",
       "      <td>NaN</td>\n",
       "    </tr>\n",
       "    <tr>\n",
       "      <th>4</th>\n",
       "      <td>PE9uqAjdw0E4-8mjGl3wVA</td>\n",
       "      <td>Crossfit Terminus</td>\n",
       "      <td>1046 Memorial Dr SE</td>\n",
       "      <td>Atlanta</td>\n",
       "      <td>GA</td>\n",
       "      <td>30316</td>\n",
       "      <td>33.747027</td>\n",
       "      <td>-84.353424</td>\n",
       "      <td>4.0</td>\n",
       "      <td>14</td>\n",
       "      <td>1</td>\n",
       "      <td>{'GoodForKids': 'False', 'BusinessParking': \"{...</td>\n",
       "      <td>Gyms, Active Life, Interval Training Gyms, Fit...</td>\n",
       "      <td>{'Monday': '16:0-19:0', 'Tuesday': '16:0-19:0'...</td>\n",
       "    </tr>\n",
       "  </tbody>\n",
       "</table>\n",
       "</div>"
      ],
      "text/plain": [
       "              business_id                     name              address  \\\n",
       "0  6iYb2HFDywm3zjuRg0shjw      Oskar Blues Taproom         921 Pearl St   \n",
       "1  tCbdrRPZA0oiIYSmHG3J0w  Flying Elephants at PDX  7000 NE Airport Way   \n",
       "2  bvN78flM8NLprQ1a1y5dRg           The Reclaimory   4720 Hawthorne Ave   \n",
       "3  oaepsyvc0J17qwi8cfrOWg              Great Clips   2566 Enterprise Rd   \n",
       "4  PE9uqAjdw0E4-8mjGl3wVA        Crossfit Terminus  1046 Memorial Dr SE   \n",
       "\n",
       "          city state postal_code   latitude   longitude  stars  review_count  \\\n",
       "0      Boulder    CO       80302  40.017544 -105.283348    4.0            86   \n",
       "1     Portland    OR       97218  45.588906 -122.593331    4.0           126   \n",
       "2     Portland    OR       97214  45.511907 -122.613693    4.5            13   \n",
       "3  Orange City    FL       32763  28.914482  -81.295979    3.0             8   \n",
       "4      Atlanta    GA       30316  33.747027  -84.353424    4.0            14   \n",
       "\n",
       "   is_open                                         attributes  \\\n",
       "0        1  {'RestaurantsTableService': 'True', 'WiFi': \"u...   \n",
       "1        1  {'RestaurantsTakeOut': 'True', 'RestaurantsAtt...   \n",
       "2        1  {'BusinessAcceptsCreditCards': 'True', 'Restau...   \n",
       "3        1  {'RestaurantsPriceRange2': '1', 'BusinessAccep...   \n",
       "4        1  {'GoodForKids': 'False', 'BusinessParking': \"{...   \n",
       "\n",
       "                                          categories  \\\n",
       "0  Gastropubs, Food, Beer Gardens, Restaurants, B...   \n",
       "1  Salad, Soup, Sandwiches, Delis, Restaurants, C...   \n",
       "2  Antiques, Fashion, Used, Vintage & Consignment...   \n",
       "3                         Beauty & Spas, Hair Salons   \n",
       "4  Gyms, Active Life, Interval Training Gyms, Fit...   \n",
       "\n",
       "                                               hours  \n",
       "0  {'Monday': '11:0-23:0', 'Tuesday': '11:0-23:0'...  \n",
       "1  {'Monday': '5:0-18:0', 'Tuesday': '5:0-17:0', ...  \n",
       "2  {'Thursday': '11:0-18:0', 'Friday': '11:0-18:0...  \n",
       "3                                                NaN  \n",
       "4  {'Monday': '16:0-19:0', 'Tuesday': '16:0-19:0'...  "
      ]
     },
     "execution_count": 168,
     "metadata": {},
     "output_type": "execute_result"
    }
   ],
   "source": [
    "import json\n",
    "import pandas as pd\n",
    "import pprint\n",
    "\n",
    "path = r\"C:\\Users\\cardo\\PycharmProjects\\SPRINGBOARD\\CAPSTONE\\Access_data\\Subset_folder\"\n",
    "fname = r'\\business_0.csv'\n",
    "filename = path+fname\n",
    "df_b = pd.read_csv(filename)\n",
    "df_b.head()"
   ]
  },
  {
   "cell_type": "markdown",
   "id": "89cf8205",
   "metadata": {},
   "source": [
    "Upon first glance, the primary key of the business dataset is the business_id. There are also various fields encapsulating location, reviews, hours, categories and attributes.Taking a closer look at the attributes column: "
   ]
  },
  {
   "cell_type": "code",
   "execution_count": 169,
   "id": "8c2ed716",
   "metadata": {},
   "outputs": [
    {
     "name": "stdout",
     "output_type": "stream",
     "text": [
      "{'RestaurantsTableService': 'True', 'WiFi': \"u'free'\", 'BikeParking': 'True', 'BusinessParking': \"{'garage': False, 'street': True, 'validated': False, 'lot': False, 'valet': False}\", 'BusinessAcceptsCreditCards': 'True', 'RestaurantsReservations': 'False', 'WheelchairAccessible': 'True', 'Caters': 'True', 'OutdoorSeating': 'True', 'RestaurantsGoodForGroups': 'True', 'HappyHour': 'True', 'BusinessAcceptsBitcoin': 'False', 'RestaurantsPriceRange2': '2', 'Ambience': \"{'touristy': False, 'hipster': False, 'romantic': False, 'divey': False, 'intimate': False, 'trendy': False, 'upscale': False, 'classy': False, 'casual': True}\", 'HasTV': 'True', 'Alcohol': \"'beer_and_wine'\", 'GoodForMeal': \"{'dessert': False, 'latenight': False, 'lunch': False, 'dinner': False, 'brunch': False, 'breakfast': False}\", 'DogsAllowed': 'False', 'RestaurantsTakeOut': 'True', 'NoiseLevel': \"u'average'\", 'RestaurantsAttire': \"'casual'\", 'RestaurantsDelivery': 'None'}\n",
      "<class 'str'>\n"
     ]
    }
   ],
   "source": [
    "attr_col = df_b['attributes'][0] \n",
    "print(attr_col)\n",
    "print(type(attr_col))\n"
   ]
  },
  {
   "cell_type": "markdown",
   "id": "936ef603",
   "metadata": {},
   "source": [
    "The attributes column is populated with a dictionary like format. To allow better querying,this can be first converted to a dictionary so that properties of the business relevant to the study can later be extracted by attribute name: "
   ]
  },
  {
   "cell_type": "code",
   "execution_count": 170,
   "id": "81577bd5",
   "metadata": {},
   "outputs": [
    {
     "name": "stdout",
     "output_type": "stream",
     "text": [
      "RestaurantsTableService : True\n",
      "WiFi : u'free'\n",
      "BikeParking : True\n",
      "BusinessParking : {'garage': False, 'street': True, 'validated': False, 'lot': False, 'valet': False}\n",
      "BusinessAcceptsCreditCards : True\n",
      "RestaurantsReservations : False\n",
      "WheelchairAccessible : True\n",
      "Caters : True\n",
      "OutdoorSeating : True\n",
      "RestaurantsGoodForGroups : True\n",
      "HappyHour : True\n",
      "BusinessAcceptsBitcoin : False\n",
      "RestaurantsPriceRange2 : 2\n",
      "Ambience : {'touristy': False, 'hipster': False, 'romantic': False, 'divey': False, 'intimate': False, 'trendy': False, 'upscale': False, 'classy': False, 'casual': True}\n",
      "HasTV : True\n",
      "Alcohol : 'beer_and_wine'\n",
      "GoodForMeal : {'dessert': False, 'latenight': False, 'lunch': False, 'dinner': False, 'brunch': False, 'breakfast': False}\n",
      "DogsAllowed : False\n",
      "RestaurantsTakeOut : True\n",
      "NoiseLevel : u'average'\n",
      "RestaurantsAttire : 'casual'\n",
      "RestaurantsDelivery : None\n"
     ]
    }
   ],
   "source": [
    "import ast  \n",
    "res = ast.literal_eval(attr_col)\n",
    "for key,val in res.items(): \n",
    "    print(key, ':', val)"
   ]
  },
  {
   "cell_type": "markdown",
   "id": "e85d96b5",
   "metadata": {},
   "source": [
    "Now that it's in a dictionary we can see the attributes column contains several subcategories with mostly boolean values and some other descriptions like 'free' for WiFi, and 'beer_and_wine' for Alcohol. One way to clean this data would be to standardize all the values of the dictionary to boolean. \n",
    "\n",
    "Let's now compare how the attributes column varies from each row: "
   ]
  },
  {
   "cell_type": "code",
   "execution_count": 171,
   "id": "f604d52e",
   "metadata": {},
   "outputs": [
    {
     "name": "stdout",
     "output_type": "stream",
     "text": [
      "BikeParking : True\n",
      "RestaurantsTakeOut : True\n",
      "BusinessParking : {'garage': False, 'street': True, 'validated': False, 'lot': False, 'valet': False}\n",
      "WheelchairAccessible : True\n",
      "DogsAllowed : True\n",
      "RestaurantsDelivery : False\n",
      "BusinessAcceptsBitcoin : False\n",
      "Caters : False\n",
      "BusinessAcceptsCreditCards : True\n"
     ]
    }
   ],
   "source": [
    "attr_col_2 = df_b['attributes'][10] \n",
    "res2 = ast.literal_eval(attr_col_2)\n",
    "for key,val in res2.items(): \n",
    "    print(key, ':', val)"
   ]
  },
  {
   "cell_type": "markdown",
   "id": "91b2ea0f",
   "metadata": {},
   "source": [
    "This shows that the length of this attributes dictionary varies with each entry meaning the data is not homogenous (likely because these are optionally populated on Yelp). This will result in errors when trying to query about an attribute for a business that doesn't exist. To address this, let's  ####"
   ]
  },
  {
   "cell_type": "markdown",
   "id": "d8f571d2",
   "metadata": {},
   "source": [
    "Moving from the attributes column, the \"categories\" column needs some additional processing to make it easier to query. Firstly, since the business dataset does not contain restaurants exclusively, rows that are not restaurants can be filtered by deleting/removing any rows that don't contain the tag 'Restaurants' in categories. For example: "
   ]
  },
  {
   "cell_type": "code",
   "execution_count": 172,
   "id": "e07b31e9",
   "metadata": {},
   "outputs": [
    {
     "name": "stdout",
     "output_type": "stream",
     "text": [
      "original df: 1000 filtered df: 311\n"
     ]
    },
    {
     "data": {
      "text/html": [
       "<div>\n",
       "<style scoped>\n",
       "    .dataframe tbody tr th:only-of-type {\n",
       "        vertical-align: middle;\n",
       "    }\n",
       "\n",
       "    .dataframe tbody tr th {\n",
       "        vertical-align: top;\n",
       "    }\n",
       "\n",
       "    .dataframe thead th {\n",
       "        text-align: right;\n",
       "    }\n",
       "</style>\n",
       "<table border=\"1\" class=\"dataframe\">\n",
       "  <thead>\n",
       "    <tr style=\"text-align: right;\">\n",
       "      <th></th>\n",
       "      <th>business_id</th>\n",
       "      <th>name</th>\n",
       "      <th>address</th>\n",
       "      <th>city</th>\n",
       "      <th>state</th>\n",
       "      <th>postal_code</th>\n",
       "      <th>latitude</th>\n",
       "      <th>longitude</th>\n",
       "      <th>stars</th>\n",
       "      <th>review_count</th>\n",
       "      <th>is_open</th>\n",
       "      <th>attributes</th>\n",
       "      <th>categories</th>\n",
       "      <th>hours</th>\n",
       "    </tr>\n",
       "  </thead>\n",
       "  <tbody>\n",
       "    <tr>\n",
       "      <th>0</th>\n",
       "      <td>6iYb2HFDywm3zjuRg0shjw</td>\n",
       "      <td>Oskar Blues Taproom</td>\n",
       "      <td>921 Pearl St</td>\n",
       "      <td>Boulder</td>\n",
       "      <td>CO</td>\n",
       "      <td>80302</td>\n",
       "      <td>40.017544</td>\n",
       "      <td>-105.283348</td>\n",
       "      <td>4.0</td>\n",
       "      <td>86</td>\n",
       "      <td>1</td>\n",
       "      <td>{'RestaurantsTableService': 'True', 'WiFi': \"u...</td>\n",
       "      <td>Gastropubs, Food, Beer Gardens, Restaurants, B...</td>\n",
       "      <td>{'Monday': '11:0-23:0', 'Tuesday': '11:0-23:0'...</td>\n",
       "    </tr>\n",
       "    <tr>\n",
       "      <th>1</th>\n",
       "      <td>tCbdrRPZA0oiIYSmHG3J0w</td>\n",
       "      <td>Flying Elephants at PDX</td>\n",
       "      <td>7000 NE Airport Way</td>\n",
       "      <td>Portland</td>\n",
       "      <td>OR</td>\n",
       "      <td>97218</td>\n",
       "      <td>45.588906</td>\n",
       "      <td>-122.593331</td>\n",
       "      <td>4.0</td>\n",
       "      <td>126</td>\n",
       "      <td>1</td>\n",
       "      <td>{'RestaurantsTakeOut': 'True', 'RestaurantsAtt...</td>\n",
       "      <td>Salad, Soup, Sandwiches, Delis, Restaurants, C...</td>\n",
       "      <td>{'Monday': '5:0-18:0', 'Tuesday': '5:0-17:0', ...</td>\n",
       "    </tr>\n",
       "    <tr>\n",
       "      <th>5</th>\n",
       "      <td>D4JtQNTI4X3KcbzacDJsMw</td>\n",
       "      <td>Bob Likes Thai Food</td>\n",
       "      <td>3755 Main St</td>\n",
       "      <td>Vancouver</td>\n",
       "      <td>BC</td>\n",
       "      <td>V5V</td>\n",
       "      <td>49.251342</td>\n",
       "      <td>-123.101333</td>\n",
       "      <td>3.5</td>\n",
       "      <td>169</td>\n",
       "      <td>1</td>\n",
       "      <td>{'GoodForKids': 'True', 'Alcohol': \"u'none'\", ...</td>\n",
       "      <td>Restaurants, Thai</td>\n",
       "      <td>{'Monday': '17:0-21:0', 'Tuesday': '17:0-21:0'...</td>\n",
       "    </tr>\n",
       "    <tr>\n",
       "      <th>7</th>\n",
       "      <td>jFYIsSb7r1QeESVUnXPHBw</td>\n",
       "      <td>Boxwood Biscuit</td>\n",
       "      <td>740 S High St</td>\n",
       "      <td>Columbus</td>\n",
       "      <td>OH</td>\n",
       "      <td>43206</td>\n",
       "      <td>39.947007</td>\n",
       "      <td>-82.997471</td>\n",
       "      <td>4.5</td>\n",
       "      <td>11</td>\n",
       "      <td>1</td>\n",
       "      <td>NaN</td>\n",
       "      <td>Breakfast &amp; Brunch, Restaurants</td>\n",
       "      <td>{'Saturday': '8:0-14:0', 'Sunday': '8:0-14:0'}</td>\n",
       "    </tr>\n",
       "    <tr>\n",
       "      <th>12</th>\n",
       "      <td>HPA_qyMEddpAEtFof02ixg</td>\n",
       "      <td>Mr G's Pizza &amp; Subs</td>\n",
       "      <td>474 Lowell St</td>\n",
       "      <td>Peabody</td>\n",
       "      <td>MA</td>\n",
       "      <td>01960</td>\n",
       "      <td>42.541155</td>\n",
       "      <td>-70.973438</td>\n",
       "      <td>4.0</td>\n",
       "      <td>39</td>\n",
       "      <td>1</td>\n",
       "      <td>{'RestaurantsGoodForGroups': 'True', 'HasTV': ...</td>\n",
       "      <td>Food, Pizza, Restaurants</td>\n",
       "      <td>{'Monday': '11:0-21:0', 'Tuesday': '11:0-21:0'...</td>\n",
       "    </tr>\n",
       "  </tbody>\n",
       "</table>\n",
       "</div>"
      ],
      "text/plain": [
       "               business_id                     name              address  \\\n",
       "0   6iYb2HFDywm3zjuRg0shjw      Oskar Blues Taproom         921 Pearl St   \n",
       "1   tCbdrRPZA0oiIYSmHG3J0w  Flying Elephants at PDX  7000 NE Airport Way   \n",
       "5   D4JtQNTI4X3KcbzacDJsMw      Bob Likes Thai Food         3755 Main St   \n",
       "7   jFYIsSb7r1QeESVUnXPHBw          Boxwood Biscuit        740 S High St   \n",
       "12  HPA_qyMEddpAEtFof02ixg      Mr G's Pizza & Subs        474 Lowell St   \n",
       "\n",
       "         city state postal_code   latitude   longitude  stars  review_count  \\\n",
       "0     Boulder    CO       80302  40.017544 -105.283348    4.0            86   \n",
       "1    Portland    OR       97218  45.588906 -122.593331    4.0           126   \n",
       "5   Vancouver    BC         V5V  49.251342 -123.101333    3.5           169   \n",
       "7    Columbus    OH       43206  39.947007  -82.997471    4.5            11   \n",
       "12    Peabody    MA       01960  42.541155  -70.973438    4.0            39   \n",
       "\n",
       "    is_open                                         attributes  \\\n",
       "0         1  {'RestaurantsTableService': 'True', 'WiFi': \"u...   \n",
       "1         1  {'RestaurantsTakeOut': 'True', 'RestaurantsAtt...   \n",
       "5         1  {'GoodForKids': 'True', 'Alcohol': \"u'none'\", ...   \n",
       "7         1                                                NaN   \n",
       "12        1  {'RestaurantsGoodForGroups': 'True', 'HasTV': ...   \n",
       "\n",
       "                                           categories  \\\n",
       "0   Gastropubs, Food, Beer Gardens, Restaurants, B...   \n",
       "1   Salad, Soup, Sandwiches, Delis, Restaurants, C...   \n",
       "5                                   Restaurants, Thai   \n",
       "7                     Breakfast & Brunch, Restaurants   \n",
       "12                           Food, Pizza, Restaurants   \n",
       "\n",
       "                                                hours  \n",
       "0   {'Monday': '11:0-23:0', 'Tuesday': '11:0-23:0'...  \n",
       "1   {'Monday': '5:0-18:0', 'Tuesday': '5:0-17:0', ...  \n",
       "5   {'Monday': '17:0-21:0', 'Tuesday': '17:0-21:0'...  \n",
       "7      {'Saturday': '8:0-14:0', 'Sunday': '8:0-14:0'}  \n",
       "12  {'Monday': '11:0-21:0', 'Tuesday': '11:0-21:0'...  "
      ]
     },
     "execution_count": 172,
     "metadata": {},
     "output_type": "execute_result"
    }
   ],
   "source": [
    "df_restaurants_only = df_b[df_b.categories.str.contains('Restaurant', na=False)]\n",
    "print('original df:', len(df_b), 'filtered df:', len(df_restaurants_only))\n",
    "\n",
    "df_restaurants_only.head()\n"
   ]
  },
  {
   "cell_type": "markdown",
   "id": "db9dc034",
   "metadata": {},
   "source": [
    "Now, let's take a closer look at the \"hours\" column: \n"
   ]
  },
  {
   "cell_type": "code",
   "execution_count": 173,
   "id": "68969711",
   "metadata": {},
   "outputs": [
    {
     "name": "stdout",
     "output_type": "stream",
     "text": [
      "0      {'Monday': '11:0-23:0', 'Tuesday': '11:0-23:0'...\n",
      "1      {'Monday': '5:0-18:0', 'Tuesday': '5:0-17:0', ...\n",
      "5      {'Monday': '17:0-21:0', 'Tuesday': '17:0-21:0'...\n",
      "7         {'Saturday': '8:0-14:0', 'Sunday': '8:0-14:0'}\n",
      "12     {'Monday': '11:0-21:0', 'Tuesday': '11:0-21:0'...\n",
      "                             ...                        \n",
      "976    {'Monday': '10:0-20:0', 'Tuesday': '10:0-20:0'...\n",
      "977    {'Monday': '16:0-21:30', 'Tuesday': '16:0-21:3...\n",
      "979    {'Monday': '11:0-21:0', 'Tuesday': '11:0-21:0'...\n",
      "984    {'Monday': '17:30-23:0', 'Tuesday': '17:30-23:...\n",
      "996    {'Monday': '11:0-21:0', 'Tuesday': '11:0-21:0'...\n",
      "Name: hours, Length: 311, dtype: object\n"
     ]
    }
   ],
   "source": [
    "hours = df_restaurants_only['hours']\n",
    "print(hours)"
   ]
  },
  {
   "cell_type": "markdown",
   "id": "1c40caed",
   "metadata": {},
   "source": [
    "While the data presented is detailed, like the attributes column, not all rows are equal lengths. Some restaurants are only open on weekends for instance. A better way to aggregate the data would be to break fields into 3 new columns: \n",
    "days_open, time_open and time_close where the days_open represents the sum of the days open, time_open and time_close represent the opening and closing times accordingly. \n",
    "This way, each restaurant will have uniform length fields "
   ]
  },
  {
   "cell_type": "code",
   "execution_count": 174,
   "id": "f4becc08",
   "metadata": {},
   "outputs": [
    {
     "name": "stdout",
     "output_type": "stream",
     "text": [
      "{'Monday': '11:0-23:0', 'Tuesday': '11:0-23:0', 'Wednesday': '11:0-23:0', 'Thursday': '11:0-23:0', 'Friday': '11:0-23:0', 'Saturday': '11:0-23:0', 'Sunday': '11:0-23:0'}\n",
      "\n",
      "\n",
      "days_open: 7   |   time_open: 11   |   time_close 23\n"
     ]
    }
   ],
   "source": [
    "#example for 1 row..\n",
    "\n",
    "hours_row = df_restaurants_only['hours'][0]\n",
    "print(hours_row)\n",
    "res_hours_row = ast.literal_eval(hours_row)\n",
    "print('\\n')\n",
    "print('days_open:', len(res_hours_row), '  |  ' ,'time_open:', res_hours_row['Monday'][0:2],'  |  ' , 'time_close', res_hours_row['Monday'][5:7])"
   ]
  },
  {
   "cell_type": "markdown",
   "id": "43b1428d",
   "metadata": {},
   "source": [
    "### 2. USER DATASET "
   ]
  },
  {
   "cell_type": "markdown",
   "id": "5de7c349",
   "metadata": {},
   "source": [
    "A similar approach is taken to load the users dataset to get a high level understanding of the structure and fields: "
   ]
  },
  {
   "cell_type": "code",
   "execution_count": 175,
   "id": "ffd7f2ad",
   "metadata": {},
   "outputs": [
    {
     "data": {
      "text/html": [
       "<div>\n",
       "<style scoped>\n",
       "    .dataframe tbody tr th:only-of-type {\n",
       "        vertical-align: middle;\n",
       "    }\n",
       "\n",
       "    .dataframe tbody tr th {\n",
       "        vertical-align: top;\n",
       "    }\n",
       "\n",
       "    .dataframe thead th {\n",
       "        text-align: right;\n",
       "    }\n",
       "</style>\n",
       "<table border=\"1\" class=\"dataframe\">\n",
       "  <thead>\n",
       "    <tr style=\"text-align: right;\">\n",
       "      <th></th>\n",
       "      <th>user_id</th>\n",
       "      <th>name</th>\n",
       "      <th>review_count</th>\n",
       "      <th>yelping_since</th>\n",
       "      <th>useful</th>\n",
       "      <th>funny</th>\n",
       "      <th>cool</th>\n",
       "      <th>elite</th>\n",
       "      <th>friends</th>\n",
       "      <th>fans</th>\n",
       "      <th>...</th>\n",
       "      <th>compliment_more</th>\n",
       "      <th>compliment_profile</th>\n",
       "      <th>compliment_cute</th>\n",
       "      <th>compliment_list</th>\n",
       "      <th>compliment_note</th>\n",
       "      <th>compliment_plain</th>\n",
       "      <th>compliment_cool</th>\n",
       "      <th>compliment_funny</th>\n",
       "      <th>compliment_writer</th>\n",
       "      <th>compliment_photos</th>\n",
       "    </tr>\n",
       "  </thead>\n",
       "  <tbody>\n",
       "    <tr>\n",
       "      <th>0</th>\n",
       "      <td>q_QQ5kBBwlCcbL1s4NVK3g</td>\n",
       "      <td>Jane</td>\n",
       "      <td>1220</td>\n",
       "      <td>2005-03-14 20:26:35</td>\n",
       "      <td>15038</td>\n",
       "      <td>10030</td>\n",
       "      <td>11291</td>\n",
       "      <td>2006,2007,2008,2009,2010,2011,2012,2013,2014</td>\n",
       "      <td>xBDpTUbai0DXrvxCe3X16Q, 7GPNBO496aecrjJfW6UWtg...</td>\n",
       "      <td>1357</td>\n",
       "      <td>...</td>\n",
       "      <td>163</td>\n",
       "      <td>190</td>\n",
       "      <td>361</td>\n",
       "      <td>147</td>\n",
       "      <td>1212</td>\n",
       "      <td>5691</td>\n",
       "      <td>2541</td>\n",
       "      <td>2541</td>\n",
       "      <td>815</td>\n",
       "      <td>323</td>\n",
       "    </tr>\n",
       "    <tr>\n",
       "      <th>1</th>\n",
       "      <td>dIIKEfOgo0KqUfGQvGikPg</td>\n",
       "      <td>Gabi</td>\n",
       "      <td>2136</td>\n",
       "      <td>2007-08-10 19:01:51</td>\n",
       "      <td>21272</td>\n",
       "      <td>10289</td>\n",
       "      <td>18046</td>\n",
       "      <td>2007,2008,2009,2010,2011,2012,2013,2014,2015,2...</td>\n",
       "      <td>XPzYf9_mwG2eXYP2BAGSTA, 2LooM5dcIk2o01nftYdPIg...</td>\n",
       "      <td>1025</td>\n",
       "      <td>...</td>\n",
       "      <td>87</td>\n",
       "      <td>94</td>\n",
       "      <td>232</td>\n",
       "      <td>96</td>\n",
       "      <td>1187</td>\n",
       "      <td>3293</td>\n",
       "      <td>2205</td>\n",
       "      <td>2205</td>\n",
       "      <td>472</td>\n",
       "      <td>294</td>\n",
       "    </tr>\n",
       "    <tr>\n",
       "      <th>2</th>\n",
       "      <td>D6ErcUnFALnCQN4b1W_TlA</td>\n",
       "      <td>Jason</td>\n",
       "      <td>119</td>\n",
       "      <td>2007-02-07 15:47:53</td>\n",
       "      <td>188</td>\n",
       "      <td>128</td>\n",
       "      <td>130</td>\n",
       "      <td>2010,2011</td>\n",
       "      <td>GfB6sC4NJQvSI2ewbQrDNA, jhZtzZNNZJOU2YSZ6jPlXQ...</td>\n",
       "      <td>16</td>\n",
       "      <td>...</td>\n",
       "      <td>1</td>\n",
       "      <td>3</td>\n",
       "      <td>0</td>\n",
       "      <td>0</td>\n",
       "      <td>5</td>\n",
       "      <td>20</td>\n",
       "      <td>31</td>\n",
       "      <td>31</td>\n",
       "      <td>3</td>\n",
       "      <td>1</td>\n",
       "    </tr>\n",
       "    <tr>\n",
       "      <th>3</th>\n",
       "      <td>JnPIjvC0cmooNDfsa9BmXg</td>\n",
       "      <td>Kat</td>\n",
       "      <td>987</td>\n",
       "      <td>2009-02-09 16:14:29</td>\n",
       "      <td>7234</td>\n",
       "      <td>4722</td>\n",
       "      <td>4035</td>\n",
       "      <td>2009,2010,2011,2012,2013,2014</td>\n",
       "      <td>HQZPQhKMwRAyS6BCselVWQ, kP2U1s_sjQfHO9grxiyDTA...</td>\n",
       "      <td>420</td>\n",
       "      <td>...</td>\n",
       "      <td>129</td>\n",
       "      <td>93</td>\n",
       "      <td>219</td>\n",
       "      <td>90</td>\n",
       "      <td>1120</td>\n",
       "      <td>4510</td>\n",
       "      <td>1566</td>\n",
       "      <td>1566</td>\n",
       "      <td>391</td>\n",
       "      <td>326</td>\n",
       "    </tr>\n",
       "    <tr>\n",
       "      <th>4</th>\n",
       "      <td>37Hc8hr3cw0iHLoPzLK6Ow</td>\n",
       "      <td>Christine</td>\n",
       "      <td>495</td>\n",
       "      <td>2008-03-03 04:57:05</td>\n",
       "      <td>1577</td>\n",
       "      <td>727</td>\n",
       "      <td>1124</td>\n",
       "      <td>2009,2010,2011</td>\n",
       "      <td>-Q88pZUcrfN0BLBDp-bkAQ, etPn4Pv1Gc4cRZjRgB_BOw...</td>\n",
       "      <td>47</td>\n",
       "      <td>...</td>\n",
       "      <td>19</td>\n",
       "      <td>32</td>\n",
       "      <td>16</td>\n",
       "      <td>15</td>\n",
       "      <td>77</td>\n",
       "      <td>131</td>\n",
       "      <td>310</td>\n",
       "      <td>310</td>\n",
       "      <td>98</td>\n",
       "      <td>44</td>\n",
       "    </tr>\n",
       "  </tbody>\n",
       "</table>\n",
       "<p>5 rows × 22 columns</p>\n",
       "</div>"
      ],
      "text/plain": [
       "                  user_id       name  review_count        yelping_since  \\\n",
       "0  q_QQ5kBBwlCcbL1s4NVK3g       Jane          1220  2005-03-14 20:26:35   \n",
       "1  dIIKEfOgo0KqUfGQvGikPg       Gabi          2136  2007-08-10 19:01:51   \n",
       "2  D6ErcUnFALnCQN4b1W_TlA      Jason           119  2007-02-07 15:47:53   \n",
       "3  JnPIjvC0cmooNDfsa9BmXg        Kat           987  2009-02-09 16:14:29   \n",
       "4  37Hc8hr3cw0iHLoPzLK6Ow  Christine           495  2008-03-03 04:57:05   \n",
       "\n",
       "   useful  funny   cool                                              elite  \\\n",
       "0   15038  10030  11291       2006,2007,2008,2009,2010,2011,2012,2013,2014   \n",
       "1   21272  10289  18046  2007,2008,2009,2010,2011,2012,2013,2014,2015,2...   \n",
       "2     188    128    130                                          2010,2011   \n",
       "3    7234   4722   4035                      2009,2010,2011,2012,2013,2014   \n",
       "4    1577    727   1124                                     2009,2010,2011   \n",
       "\n",
       "                                             friends  fans  ...  \\\n",
       "0  xBDpTUbai0DXrvxCe3X16Q, 7GPNBO496aecrjJfW6UWtg...  1357  ...   \n",
       "1  XPzYf9_mwG2eXYP2BAGSTA, 2LooM5dcIk2o01nftYdPIg...  1025  ...   \n",
       "2  GfB6sC4NJQvSI2ewbQrDNA, jhZtzZNNZJOU2YSZ6jPlXQ...    16  ...   \n",
       "3  HQZPQhKMwRAyS6BCselVWQ, kP2U1s_sjQfHO9grxiyDTA...   420  ...   \n",
       "4  -Q88pZUcrfN0BLBDp-bkAQ, etPn4Pv1Gc4cRZjRgB_BOw...    47  ...   \n",
       "\n",
       "   compliment_more  compliment_profile  compliment_cute  compliment_list  \\\n",
       "0              163                 190              361              147   \n",
       "1               87                  94              232               96   \n",
       "2                1                   3                0                0   \n",
       "3              129                  93              219               90   \n",
       "4               19                  32               16               15   \n",
       "\n",
       "   compliment_note  compliment_plain  compliment_cool  compliment_funny  \\\n",
       "0             1212              5691             2541              2541   \n",
       "1             1187              3293             2205              2205   \n",
       "2                5                20               31                31   \n",
       "3             1120              4510             1566              1566   \n",
       "4               77               131              310               310   \n",
       "\n",
       "   compliment_writer  compliment_photos  \n",
       "0                815                323  \n",
       "1                472                294  \n",
       "2                  3                  1  \n",
       "3                391                326  \n",
       "4                 98                 44  \n",
       "\n",
       "[5 rows x 22 columns]"
      ]
     },
     "execution_count": 175,
     "metadata": {},
     "output_type": "execute_result"
    }
   ],
   "source": [
    "path = r\"C:\\Users\\cardo\\PycharmProjects\\SPRINGBOARD\\CAPSTONE\\Access_data\\Subset_folder\"\n",
    "fname = r'\\user_0.csv'\n",
    "filename = path+fname\n",
    "df_u = pd.read_csv(filename)\n",
    "df_u.head()"
   ]
  },
  {
   "cell_type": "markdown",
   "id": "2792b014",
   "metadata": {},
   "source": [
    "Starting with the \"yelping_since\" column, only the year is really needed to draw conclusions on the user's status - for instance to get a sense of the user's experience on yelp. The month, date and time while providing more details rarely add more to the overall analysis "
   ]
  },
  {
   "cell_type": "code",
   "execution_count": 176,
   "id": "ddd98395",
   "metadata": {
    "scrolled": true
   },
   "outputs": [
    {
     "name": "stdout",
     "output_type": "stream",
     "text": [
      "2005\n"
     ]
    }
   ],
   "source": [
    "yelping_since = df_u['yelping_since'][0][0:4]\n",
    "print(yelping_since)"
   ]
  },
  {
   "cell_type": "markdown",
   "id": "6066102a",
   "metadata": {},
   "source": [
    "The next three columns feature some stats on the reviews left by the user - how many of their reviews were tagged as useful, funny or cool. "
   ]
  },
  {
   "cell_type": "markdown",
   "id": "730ef86e",
   "metadata": {},
   "source": [
    "Next, we come to the elite column which depicts the years during which a user was an elite yelper. The first issue with this colunn is missing values if the yelper was never elite: "
   ]
  },
  {
   "cell_type": "code",
   "execution_count": 177,
   "id": "88b62b55",
   "metadata": {},
   "outputs": [
    {
     "data": {
      "text/plain": [
       "22                                            2009,2010\n",
       "23                                            2007,2008\n",
       "24                                                  NaN\n",
       "25                  2014,2015,2016,2017,2018,2019,20,20\n",
       "26                                                  NaN\n",
       "27    2010,2011,2012,2013,2014,2015,2016,2017,2018,2...\n",
       "28                        2009,2010,2011,2012,2013,2014\n",
       "29                                                  NaN\n",
       "Name: elite, dtype: object"
      ]
     },
     "execution_count": 177,
     "metadata": {},
     "output_type": "execute_result"
    }
   ],
   "source": [
    "df_u['elite'][22:30]"
   ]
  },
  {
   "cell_type": "markdown",
   "id": "e77d37d8",
   "metadata": {},
   "source": [
    "Instead of NaN, it would make more sense for these rows to be NULL or False. In fact a better representation for the other rows would be a boolean - True if the user was ever an elite member and False if not. This is because for the purpose of this analysis, knowing the individual years of the user's elite status doesn't add that much value. "
   ]
  },
  {
   "cell_type": "code",
   "execution_count": 179,
   "id": "f5517f32",
   "metadata": {},
   "outputs": [
    {
     "name": "stderr",
     "output_type": "stream",
     "text": [
      "<ipython-input-179-809a4b5a4fb4>:4: SettingWithCopyWarning: \n",
      "A value is trying to be set on a copy of a slice from a DataFrame\n",
      "\n",
      "See the caveats in the documentation: https://pandas.pydata.org/pandas-docs/stable/user_guide/indexing.html#returning-a-view-versus-a-copy\n",
      "  df_no_nan['elite'][i] = 'True'\n"
     ]
    },
    {
     "data": {
      "text/plain": [
       "22     True\n",
       "23     True\n",
       "24    False\n",
       "25     True\n",
       "26    False\n",
       "27     True\n",
       "28     True\n",
       "29    False\n",
       "Name: elite, dtype: object"
      ]
     },
     "execution_count": 179,
     "metadata": {},
     "output_type": "execute_result"
    }
   ],
   "source": [
    "df_no_nan = df_u.fillna('False')\n",
    "for i in range(len(df_no_nan)): \n",
    "        if df_no_nan['elite'][i] != 'False':\n",
    "            df_no_nan['elite'][i] = 'True'\n",
    "            \n",
    "df_no_nan['elite'][22:30]\n"
   ]
  },
  {
   "cell_type": "markdown",
   "id": "9260058e",
   "metadata": {},
   "source": [
    "Moving on, the remaining columns are compliments on the user profile itself and don't seem relevant to the study. These columns can simply be dropped. "
   ]
  },
  {
   "cell_type": "markdown",
   "id": "6b20ebcf",
   "metadata": {},
   "source": [
    "### 3. REVIEW DATASET"
   ]
  },
  {
   "cell_type": "code",
   "execution_count": 181,
   "id": "2dd8cc78",
   "metadata": {
    "scrolled": true
   },
   "outputs": [
    {
     "data": {
      "text/html": [
       "<div>\n",
       "<style scoped>\n",
       "    .dataframe tbody tr th:only-of-type {\n",
       "        vertical-align: middle;\n",
       "    }\n",
       "\n",
       "    .dataframe tbody tr th {\n",
       "        vertical-align: top;\n",
       "    }\n",
       "\n",
       "    .dataframe thead th {\n",
       "        text-align: right;\n",
       "    }\n",
       "</style>\n",
       "<table border=\"1\" class=\"dataframe\">\n",
       "  <thead>\n",
       "    <tr style=\"text-align: right;\">\n",
       "      <th></th>\n",
       "      <th>review_id</th>\n",
       "      <th>user_id</th>\n",
       "      <th>business_id</th>\n",
       "      <th>stars</th>\n",
       "      <th>useful</th>\n",
       "      <th>funny</th>\n",
       "      <th>cool</th>\n",
       "      <th>text</th>\n",
       "      <th>date</th>\n",
       "    </tr>\n",
       "  </thead>\n",
       "  <tbody>\n",
       "    <tr>\n",
       "      <th>0</th>\n",
       "      <td>lWC-xP3rd6obsecCYsGZRg</td>\n",
       "      <td>ak0TdVmGKo4pwqdJSTLwWw</td>\n",
       "      <td>buF9druCkbuXLX526sGELQ</td>\n",
       "      <td>4</td>\n",
       "      <td>3</td>\n",
       "      <td>1</td>\n",
       "      <td>1</td>\n",
       "      <td>Apparently Prides Osteria had a rough summer a...</td>\n",
       "      <td>2014-10-11 03:34:02</td>\n",
       "    </tr>\n",
       "    <tr>\n",
       "      <th>1</th>\n",
       "      <td>8bFej1QE5LXp4O05qjGqXA</td>\n",
       "      <td>YoVfDbnISlW0f7abNQACIg</td>\n",
       "      <td>RA4V8pr014UyUbDvI-LW2A</td>\n",
       "      <td>4</td>\n",
       "      <td>1</td>\n",
       "      <td>0</td>\n",
       "      <td>0</td>\n",
       "      <td>This store is pretty good. Not as great as Wal...</td>\n",
       "      <td>2015-07-03 20:38:25</td>\n",
       "    </tr>\n",
       "    <tr>\n",
       "      <th>2</th>\n",
       "      <td>NDhkzczKjLshODbqDoNLSg</td>\n",
       "      <td>eC5evKn1TWDyHCyQAwguUw</td>\n",
       "      <td>_sS2LBIGNT5NQb6PD1Vtjw</td>\n",
       "      <td>5</td>\n",
       "      <td>0</td>\n",
       "      <td>0</td>\n",
       "      <td>0</td>\n",
       "      <td>I called WVM on the recommendation of a couple...</td>\n",
       "      <td>2013-05-28 20:38:06</td>\n",
       "    </tr>\n",
       "    <tr>\n",
       "      <th>3</th>\n",
       "      <td>T5fAqjjFooT4V0OeZyuk1w</td>\n",
       "      <td>SFQ1jcnGguO0LYWnbbftAA</td>\n",
       "      <td>0AzLzHfOJgL7ROwhdww2ew</td>\n",
       "      <td>2</td>\n",
       "      <td>1</td>\n",
       "      <td>1</td>\n",
       "      <td>1</td>\n",
       "      <td>I've stayed at many Marriott and Renaissance M...</td>\n",
       "      <td>2010-01-08 02:29:15</td>\n",
       "    </tr>\n",
       "    <tr>\n",
       "      <th>4</th>\n",
       "      <td>sjm_uUcQVxab_EeLCqsYLg</td>\n",
       "      <td>0kA0PAJ8QFMeveQWHFqz2A</td>\n",
       "      <td>8zehGz9jnxPqXtOc7KaJxA</td>\n",
       "      <td>4</td>\n",
       "      <td>0</td>\n",
       "      <td>0</td>\n",
       "      <td>0</td>\n",
       "      <td>The food is always great here. The service fro...</td>\n",
       "      <td>2011-07-28 18:05:01</td>\n",
       "    </tr>\n",
       "  </tbody>\n",
       "</table>\n",
       "</div>"
      ],
      "text/plain": [
       "                review_id                 user_id             business_id  \\\n",
       "0  lWC-xP3rd6obsecCYsGZRg  ak0TdVmGKo4pwqdJSTLwWw  buF9druCkbuXLX526sGELQ   \n",
       "1  8bFej1QE5LXp4O05qjGqXA  YoVfDbnISlW0f7abNQACIg  RA4V8pr014UyUbDvI-LW2A   \n",
       "2  NDhkzczKjLshODbqDoNLSg  eC5evKn1TWDyHCyQAwguUw  _sS2LBIGNT5NQb6PD1Vtjw   \n",
       "3  T5fAqjjFooT4V0OeZyuk1w  SFQ1jcnGguO0LYWnbbftAA  0AzLzHfOJgL7ROwhdww2ew   \n",
       "4  sjm_uUcQVxab_EeLCqsYLg  0kA0PAJ8QFMeveQWHFqz2A  8zehGz9jnxPqXtOc7KaJxA   \n",
       "\n",
       "   stars  useful  funny  cool  \\\n",
       "0      4       3      1     1   \n",
       "1      4       1      0     0   \n",
       "2      5       0      0     0   \n",
       "3      2       1      1     1   \n",
       "4      4       0      0     0   \n",
       "\n",
       "                                                text                 date  \n",
       "0  Apparently Prides Osteria had a rough summer a...  2014-10-11 03:34:02  \n",
       "1  This store is pretty good. Not as great as Wal...  2015-07-03 20:38:25  \n",
       "2  I called WVM on the recommendation of a couple...  2013-05-28 20:38:06  \n",
       "3  I've stayed at many Marriott and Renaissance M...  2010-01-08 02:29:15  \n",
       "4  The food is always great here. The service fro...  2011-07-28 18:05:01  "
      ]
     },
     "execution_count": 181,
     "metadata": {},
     "output_type": "execute_result"
    }
   ],
   "source": [
    "path = r\"C:\\Users\\cardo\\PycharmProjects\\SPRINGBOARD\\CAPSTONE\\Access_data\\Subset_folder\"\n",
    "fname = r'\\review_0.csv'\n",
    "filename = path+fname\n",
    "df_r = pd.read_csv(filename)\n",
    "df_r.head()"
   ]
  },
  {
   "cell_type": "markdown",
   "id": "7873e134",
   "metadata": {},
   "source": [
    "Since the restaurants under study will be those filtered in the business dataset, the review table therefore only needs to contain reviews coresponding to those business_ids. To do this, the review table can be joined on the business_id. This can be performed directly in SQL. Other than this, let's take a closer look at the \"text\" column : "
   ]
  },
  {
   "cell_type": "code",
   "execution_count": 185,
   "id": "6abaa4bb",
   "metadata": {},
   "outputs": [
    {
     "name": "stdout",
     "output_type": "stream",
     "text": [
      "('Apparently Prides Osteria had a rough summer as evidenced by the almost '\n",
      " 'empty dining room at 6:30 on a Friday night. However new blood in the '\n",
      " 'kitchen seems to have revitalized the food from other customers recent '\n",
      " 'visits. Waitstaff was warm but unobtrusive. By 8 pm or so when we left the '\n",
      " 'bar was full and the dining room was much more lively than it had been. '\n",
      " 'Perhaps Beverly residents prefer a later seating. \\n'\n",
      " '\\n'\n",
      " 'After reading the mixed reviews of late I was a little tentative over our '\n",
      " 'choice but luckily there was nothing to worry about in the food department. '\n",
      " 'We started with the fried dough, burrata and prosciutto which were all '\n",
      " \"lovely. Then although they don't offer half portions of pasta we each \"\n",
      " 'ordered the entree size and split them. We chose the tagliatelle bolognese '\n",
      " 'and a four cheese filled pasta in a creamy sauce with bacon, asparagus and '\n",
      " 'grana frita. Both were very good. We split a secondi which was the special '\n",
      " 'Berkshire pork secreto, which was described as a pork skirt steak with '\n",
      " 'garlic potato purée and romanesco broccoli (incorrectly described as a '\n",
      " 'romanesco sauce). Some tables received bread before the meal but for some '\n",
      " 'reason we did not. \\n'\n",
      " '\\n'\n",
      " 'Management also seems capable for when the tenants in the apartment above '\n",
      " 'began playing basketball she intervened and also comped the tables a '\n",
      " 'dessert. We ordered the apple dumpling with gelato and it was also quite '\n",
      " 'tasty. Portions are not huge which I particularly like because I prefer to '\n",
      " 'order courses. If you are someone who orders just a meal you may leave '\n",
      " 'hungry depending on you appetite. Dining room was mostly younger crowd while '\n",
      " 'the bar was definitely the over 40 set. Would recommend that the naysayers '\n",
      " \"return to see the improvement although I personally don't know the former \"\n",
      " 'glory to be able to compare. Easy access to downtown Salem without the '\n",
      " 'crowds on this month of October.')\n"
     ]
    }
   ],
   "source": [
    "pprint.pprint(df_r['text'][0])"
   ]
  },
  {
   "cell_type": "markdown",
   "id": "ecbb19ed",
   "metadata": {},
   "source": [
    "The example above is only 1 row of the review - a sizeable block of text that will be impossible to query easily without analyzing and breaking it down. The initial thought is to perform some basic sentiment analysis on each review to come up with an overall score based on positive/negative commentary. This will transform the qualitative text into a quantitative field that will be easy to query. Dependng on the volume/level of integrity needed, existing sentiment analysis tools might have to be leveraged to process this data. "
   ]
  },
  {
   "cell_type": "markdown",
   "id": "e8f785f0",
   "metadata": {},
   "source": [
    "### 4. TIPS DATASET"
   ]
  },
  {
   "cell_type": "code",
   "execution_count": 186,
   "id": "6790edf4",
   "metadata": {},
   "outputs": [
    {
     "data": {
      "text/html": [
       "<div>\n",
       "<style scoped>\n",
       "    .dataframe tbody tr th:only-of-type {\n",
       "        vertical-align: middle;\n",
       "    }\n",
       "\n",
       "    .dataframe tbody tr th {\n",
       "        vertical-align: top;\n",
       "    }\n",
       "\n",
       "    .dataframe thead th {\n",
       "        text-align: right;\n",
       "    }\n",
       "</style>\n",
       "<table border=\"1\" class=\"dataframe\">\n",
       "  <thead>\n",
       "    <tr style=\"text-align: right;\">\n",
       "      <th></th>\n",
       "      <th>user_id</th>\n",
       "      <th>business_id</th>\n",
       "      <th>text</th>\n",
       "      <th>date</th>\n",
       "      <th>compliment_count</th>\n",
       "    </tr>\n",
       "  </thead>\n",
       "  <tbody>\n",
       "    <tr>\n",
       "      <th>0</th>\n",
       "      <td>WCjg0jdHXMlwbqS9tZUx8Q</td>\n",
       "      <td>ENwBByjpoa5Gg7tKgxqwLg</td>\n",
       "      <td>Carne asada chips...</td>\n",
       "      <td>2011-07-22 19:07:35</td>\n",
       "      <td>0</td>\n",
       "    </tr>\n",
       "    <tr>\n",
       "      <th>1</th>\n",
       "      <td>42-Z02y9bABShAGZhuSzrQ</td>\n",
       "      <td>jKO4Og6ucdX2-YCTKQVYjg</td>\n",
       "      <td>Best happy hour from 3pm to 6pm! $1 off martin...</td>\n",
       "      <td>2014-09-10 07:33:29</td>\n",
       "      <td>0</td>\n",
       "    </tr>\n",
       "    <tr>\n",
       "      <th>2</th>\n",
       "      <td>5u7E3LYp_3eB8dLuUBazXQ</td>\n",
       "      <td>9Bto7mky640ocgezVKSfVg</td>\n",
       "      <td>Nice people, skilled staff, clean location - b...</td>\n",
       "      <td>2013-12-13 23:23:41</td>\n",
       "      <td>0</td>\n",
       "    </tr>\n",
       "    <tr>\n",
       "      <th>3</th>\n",
       "      <td>wDWoMG5N9oI4DJ-p7z8EBg</td>\n",
       "      <td>XWFjKtRGZ9khRGtGg2ZvaA</td>\n",
       "      <td>1/2-price bowling &amp; the \"Very\" Old Fashion are...</td>\n",
       "      <td>2017-07-11 23:07:16</td>\n",
       "      <td>0</td>\n",
       "    </tr>\n",
       "    <tr>\n",
       "      <th>4</th>\n",
       "      <td>JmuFlorjjRshHTKzTwNtgg</td>\n",
       "      <td>mkrx0VhSMU3p3uhyJGCoWA</td>\n",
       "      <td>Solid gold's. Great sauna. Great staff, too. E...</td>\n",
       "      <td>2016-11-30 08:46:36</td>\n",
       "      <td>0</td>\n",
       "    </tr>\n",
       "  </tbody>\n",
       "</table>\n",
       "</div>"
      ],
      "text/plain": [
       "                  user_id             business_id  \\\n",
       "0  WCjg0jdHXMlwbqS9tZUx8Q  ENwBByjpoa5Gg7tKgxqwLg   \n",
       "1  42-Z02y9bABShAGZhuSzrQ  jKO4Og6ucdX2-YCTKQVYjg   \n",
       "2  5u7E3LYp_3eB8dLuUBazXQ  9Bto7mky640ocgezVKSfVg   \n",
       "3  wDWoMG5N9oI4DJ-p7z8EBg  XWFjKtRGZ9khRGtGg2ZvaA   \n",
       "4  JmuFlorjjRshHTKzTwNtgg  mkrx0VhSMU3p3uhyJGCoWA   \n",
       "\n",
       "                                                text                 date  \\\n",
       "0                               Carne asada chips...  2011-07-22 19:07:35   \n",
       "1  Best happy hour from 3pm to 6pm! $1 off martin...  2014-09-10 07:33:29   \n",
       "2  Nice people, skilled staff, clean location - b...  2013-12-13 23:23:41   \n",
       "3  1/2-price bowling & the \"Very\" Old Fashion are...  2017-07-11 23:07:16   \n",
       "4  Solid gold's. Great sauna. Great staff, too. E...  2016-11-30 08:46:36   \n",
       "\n",
       "   compliment_count  \n",
       "0                 0  \n",
       "1                 0  \n",
       "2                 0  \n",
       "3                 0  \n",
       "4                 0  "
      ]
     },
     "execution_count": 186,
     "metadata": {},
     "output_type": "execute_result"
    }
   ],
   "source": [
    "path = r\"C:\\Users\\cardo\\PycharmProjects\\SPRINGBOARD\\CAPSTONE\\Access_data\\Subset_folder\"\n",
    "fname = r'\\tips_0.csv'\n",
    "filename = path+fname\n",
    "df_t = pd.read_csv(filename)\n",
    "df_t.head()"
   ]
  },
  {
   "cell_type": "markdown",
   "id": "df91ded1",
   "metadata": {},
   "source": [
    "The tips dataset is very similar to the review dataset and contains a text field with general tips and notes from the users.The text can probably be combined with the review text before performing the sentiment analysis/weighting since it doesn't bear a lot of significance on its own. "
   ]
  },
  {
   "cell_type": "markdown",
   "id": "0fa47fca",
   "metadata": {},
   "source": [
    "### 5. CHECKIN DATASET"
   ]
  },
  {
   "cell_type": "markdown",
   "id": "18f959fc",
   "metadata": {},
   "source": [
    "Finally, the checkin dataset contains the business id and all the dates+time a user checked in via yelp in the timespan that this data was collected: "
   ]
  },
  {
   "cell_type": "code",
   "execution_count": 201,
   "id": "b9b83ce2",
   "metadata": {},
   "outputs": [
    {
     "data": {
      "text/html": [
       "<div>\n",
       "<style scoped>\n",
       "    .dataframe tbody tr th:only-of-type {\n",
       "        vertical-align: middle;\n",
       "    }\n",
       "\n",
       "    .dataframe tbody tr th {\n",
       "        vertical-align: top;\n",
       "    }\n",
       "\n",
       "    .dataframe thead th {\n",
       "        text-align: right;\n",
       "    }\n",
       "</style>\n",
       "<table border=\"1\" class=\"dataframe\">\n",
       "  <thead>\n",
       "    <tr style=\"text-align: right;\">\n",
       "      <th></th>\n",
       "      <th>business_id</th>\n",
       "      <th>date</th>\n",
       "    </tr>\n",
       "  </thead>\n",
       "  <tbody>\n",
       "    <tr>\n",
       "      <th>0</th>\n",
       "      <td>--0r8K_AQ4FZfLsX3ZYRDA</td>\n",
       "      <td>2017-09-03 17:13:59</td>\n",
       "    </tr>\n",
       "    <tr>\n",
       "      <th>1</th>\n",
       "      <td>--0zrn43LEaB4jUWTQH_Bg</td>\n",
       "      <td>2010-10-08 22:21:20, 2010-11-01 21:29:14, 2010...</td>\n",
       "    </tr>\n",
       "    <tr>\n",
       "      <th>2</th>\n",
       "      <td>--164t1nclzzmca7eDiJMw</td>\n",
       "      <td>2010-02-26 02:06:53, 2010-02-27 08:00:09, 2010...</td>\n",
       "    </tr>\n",
       "    <tr>\n",
       "      <th>3</th>\n",
       "      <td>--2aF9NhXnNVpDV0KS3xBQ</td>\n",
       "      <td>2014-11-03 16:35:35, 2015-01-30 18:16:03, 2015...</td>\n",
       "    </tr>\n",
       "    <tr>\n",
       "      <th>4</th>\n",
       "      <td>--2mEJ63SC_8_08_jGgVIg</td>\n",
       "      <td>2010-12-15 17:10:46, 2013-12-28 00:27:54, 2015...</td>\n",
       "    </tr>\n",
       "  </tbody>\n",
       "</table>\n",
       "</div>"
      ],
      "text/plain": [
       "              business_id                                               date\n",
       "0  --0r8K_AQ4FZfLsX3ZYRDA                                2017-09-03 17:13:59\n",
       "1  --0zrn43LEaB4jUWTQH_Bg  2010-10-08 22:21:20, 2010-11-01 21:29:14, 2010...\n",
       "2  --164t1nclzzmca7eDiJMw  2010-02-26 02:06:53, 2010-02-27 08:00:09, 2010...\n",
       "3  --2aF9NhXnNVpDV0KS3xBQ  2014-11-03 16:35:35, 2015-01-30 18:16:03, 2015...\n",
       "4  --2mEJ63SC_8_08_jGgVIg  2010-12-15 17:10:46, 2013-12-28 00:27:54, 2015..."
      ]
     },
     "execution_count": 201,
     "metadata": {},
     "output_type": "execute_result"
    }
   ],
   "source": [
    "path = r\"C:\\Users\\cardo\\PycharmProjects\\SPRINGBOARD\\CAPSTONE\\Access_data\\Subset_folder\"\n",
    "fname = r'\\checkin_0.csv'\n",
    "filename = path+fname\n",
    "df_c = pd.read_csv(filename)\n",
    "df_c.head()"
   ]
  },
  {
   "cell_type": "markdown",
   "id": "d7873af4",
   "metadata": {},
   "source": [
    "Unsurprisingly, the 'date' field varies in length given the number of checkins. Thus, summing the number of checkins will normalize this data and provide a more meaningful metric to compare restaurant popularity by: "
   ]
  },
  {
   "cell_type": "code",
   "execution_count": 202,
   "id": "ba670e69",
   "metadata": {},
   "outputs": [
    {
     "data": {
      "text/html": [
       "<div>\n",
       "<style scoped>\n",
       "    .dataframe tbody tr th:only-of-type {\n",
       "        vertical-align: middle;\n",
       "    }\n",
       "\n",
       "    .dataframe tbody tr th {\n",
       "        vertical-align: top;\n",
       "    }\n",
       "\n",
       "    .dataframe thead th {\n",
       "        text-align: right;\n",
       "    }\n",
       "</style>\n",
       "<table border=\"1\" class=\"dataframe\">\n",
       "  <thead>\n",
       "    <tr style=\"text-align: right;\">\n",
       "      <th></th>\n",
       "      <th>business_id</th>\n",
       "      <th>no_of_checkins</th>\n",
       "    </tr>\n",
       "  </thead>\n",
       "  <tbody>\n",
       "    <tr>\n",
       "      <th>0</th>\n",
       "      <td>--0r8K_AQ4FZfLsX3ZYRDA</td>\n",
       "      <td>19</td>\n",
       "    </tr>\n",
       "    <tr>\n",
       "      <th>1</th>\n",
       "      <td>--0zrn43LEaB4jUWTQH_Bg</td>\n",
       "      <td>187</td>\n",
       "    </tr>\n",
       "    <tr>\n",
       "      <th>2</th>\n",
       "      <td>--164t1nclzzmca7eDiJMw</td>\n",
       "      <td>6529</td>\n",
       "    </tr>\n",
       "    <tr>\n",
       "      <th>3</th>\n",
       "      <td>--2aF9NhXnNVpDV0KS3xBQ</td>\n",
       "      <td>166</td>\n",
       "    </tr>\n",
       "    <tr>\n",
       "      <th>4</th>\n",
       "      <td>--2mEJ63SC_8_08_jGgVIg</td>\n",
       "      <td>82</td>\n",
       "    </tr>\n",
       "  </tbody>\n",
       "</table>\n",
       "</div>"
      ],
      "text/plain": [
       "              business_id no_of_checkins\n",
       "0  --0r8K_AQ4FZfLsX3ZYRDA             19\n",
       "1  --0zrn43LEaB4jUWTQH_Bg            187\n",
       "2  --164t1nclzzmca7eDiJMw           6529\n",
       "3  --2aF9NhXnNVpDV0KS3xBQ            166\n",
       "4  --2mEJ63SC_8_08_jGgVIg             82"
      ]
     },
     "execution_count": 202,
     "metadata": {},
     "output_type": "execute_result"
    }
   ],
   "source": [
    "for i in range(len(df_c)):\n",
    "    df_c['date'][i] = len(df_c['date'][i]) \n",
    "\n",
    "df_c.columns = [\"business_id\", \"no_of_checkins\"]\n",
    "df_c.head()"
   ]
  },
  {
   "cell_type": "markdown",
   "id": "cc5208e5",
   "metadata": {},
   "source": [
    "### 6. PUTTING IT ALL TOGETHER: ENTITY-RELATIONSHIP DIAGRAM:"
   ]
  },
  {
   "cell_type": "markdown",
   "id": "1e032b54",
   "metadata": {},
   "source": [
    "Finally, all these tables can be represented as an entity relationship diagram. Some of the tables like the business, user and reviews tables can be further subdivided to avoid lengthly fields and embedded dictionaries inside columns which would make it harder to query in SQL. \n",
    "Thus a separate table for attributes, hours of operation, location details and cuisine and overall business details is depicted instead of one large table. \n",
    "The user table similarly has an overview of user details and 2 supplementary tables of user review statistics and user profile statistics that provide more details.\n",
    "The review details table currently contains the review text as well as the text from the tips table but this architecture will likely change after sentiment analysis. \n",
    "Lastly, the checkins dataset remains as is since it already conveys the relevant information in a very concise manner. \n",
    "\n",
    "All of this can be illustrated by the diagram below: "
   ]
  },
  {
   "attachments": {
    "data_model-2.JPG": {
     "image/jpeg": "[encoded data removed]"
    }
   },
   "cell_type": "markdown",
   "id": "fbadf9cf",
   "metadata": {},
   "source": [
    "![data_model-2.JPG](attachment:data_model-2.JPG)"
   ]
  },
  {
   "cell_type": "code",
   "execution_count": null,
   "id": "72fe2ba9",
   "metadata": {},
   "outputs": [],
   "source": []
  }
 ],
 "metadata": {
  "kernelspec": {
   "display_name": "Python 3",
   "language": "python",
   "name": "python3"
  },
  "language_info": {
   "codemirror_mode": {
    "name": "ipython",
    "version": 3
   },
   "file_extension": ".py",
   "mimetype": "text/x-python",
   "name": "python",
   "nbconvert_exporter": "python",
   "pygments_lexer": "ipython3",
   "version": "3.8.3"
  }
 },
 "nbformat": 4,
 "nbformat_minor": 5
}
